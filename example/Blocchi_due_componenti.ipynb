{
 "cells": [
  {
   "cell_type": "code",
   "execution_count": 1,
   "metadata": {
    "collapsed": false
   },
   "outputs": [],
   "source": [
    "\n",
    "from sys import path\n",
    "path.append('/u/cm/rbertoss')\n",
    "\n"
   ]
  },
  {
   "cell_type": "code",
   "execution_count": 2,
   "metadata": {
    "collapsed": true
   },
   "outputs": [],
   "source": [
    "import thermocepstrum as tc"
   ]
  },
  {
   "cell_type": "code",
   "execution_count": 3,
   "metadata": {
    "collapsed": false
   },
   "outputs": [],
   "source": [
    "import thermocepstrum.blockanalysis as ba"
   ]
  },
  {
   "cell_type": "code",
   "execution_count": 4,
   "metadata": {
    "collapsed": true
   },
   "outputs": [],
   "source": [
    "import imp"
   ]
  },
  {
   "cell_type": "code",
   "execution_count": 5,
   "metadata": {
    "collapsed": false
   },
   "outputs": [],
   "source": [
    "import numpy as np\n",
    "import matplotlib.pyplot as plt\n",
    "%matplotlib inline\n",
    "plt.rcParams['figure.figsize'] = (16, 9)"
   ]
  },
  {
   "cell_type": "code",
   "execution_count": 6,
   "metadata": {
    "collapsed": false
   },
   "outputs": [
    {
     "name": "stdout",
     "output_type": "stream",
     "text": [
      "#scopo di questo file: continuare una simulazione precedente con T=1400K\n",
      "#\n",
      "echo both\n",
      "read_restart equil.${T_resume}.restart\n",
      "read_restart equil.1400.restart\n",
      "  orthogonal box = (-3.17721 -3.17721 -3.17721) to (37.0343 37.0343 37.0343)\n",
      "  2 by 2 by 3 MPI processor grid\n",
      "  1728 atoms\n",
      "kspace_style ewald 0.01e-5\n",
      "pair_style born/coul/long 20.0\n",
      "variable b equal 0.211\n",
      "variable A11 equal 1.25*$b\n",
      "variable A11 equal 1.25*0.211\n",
      "variable A12 equal 1.0*$b\n",
      "variable A12 equal 1.0*0.211\n",
      "variable A22 equal 0.75*$b\n",
      "variable A22 equal 0.75*0.211\n",
      "variable rho equal 0.317\n",
      "variable sigma1 equal 1.17\n",
      "variable sigma2 equal 1.585\n",
      "variable C11 equal 1.04857\n",
      "variable C12 equal 6.99049\n",
      "variable C22 equal 72.4015\n",
      "variable D11 equal -0.499321\n",
      "variable D12 equal -8.6757\n",
      "variable D22 equal -145.427\n",
      "variable sigma11 equal ${sigma1}*2\n",
      "variable sigma11 equal 1.17*2\n",
      "variable sigma12 equal ${sigma1}+${sigma2}\n",
      "variable sigma12 equal 1.17+${sigma2}\n",
      "variable sigma12 equal 1.17+1.585\n",
      "variable sigma22 equal ${sigma2}*2\n",
      "variable sigma22 equal 1.585*2\n",
      "pair_coeff 1 1 ${A11} ${rho} ${sigma11} ${C11} ${D11}\n",
      "pair_coeff 1 1 0.26375 ${rho} ${sigma11} ${C11} ${D11}\n",
      "pair_coeff 1 1 0.26375 0.317 ${sigma11} ${C11} ${D11}\n",
      "pair_coeff 1 1 0.26375 0.317 2.34 ${C11} ${D11}\n",
      "pair_coeff 1 1 0.26375 0.317 2.34 1.04857 ${D11}\n",
      "pair_coeff 1 1 0.26375 0.317 2.34 1.04857 -0.499321\n",
      "pair_coeff 1 2 ${A12} ${rho} ${sigma12} ${C12} ${D12}\n",
      "pair_coeff 1 2 0.211 ${rho} ${sigma12} ${C12} ${D12}\n",
      "pair_coeff 1 2 0.211 0.317 ${sigma12} ${C12} ${D12}\n",
      "pair_coeff 1 2 0.211 0.317 2.755 ${C12} ${D12}\n",
      "pair_coeff 1 2 0.211 0.317 2.755 6.99049 ${D12}\n",
      "pair_coeff 1 2 0.211 0.317 2.755 6.99049 -8.6757\n",
      "pair_coeff 2 2 ${A22} ${rho} ${sigma22} ${C22} ${D22}\n",
      "pair_coeff 2 2 0.15825 ${rho} ${sigma22} ${C22} ${D22}\n",
      "pair_coeff 2 2 0.15825 0.317 ${sigma22} ${C22} ${D22}\n",
      "pair_coeff 2 2 0.15825 0.317 3.17 ${C22} ${D22}\n",
      "pair_coeff 2 2 0.15825 0.317 3.17 72.4015 ${D22}\n",
      "pair_coeff 2 2 0.15825 0.317 3.17 72.4015 -145.427\n",
      "timestep 1e-3\n",
      "reset_timestep 0\n",
      "thermo 5 #output ogni 5 passi\n",
      "kspace_modify diff ad\n",
      "fix 1 all nve\n",
      "compute TYPE all chunk/atom type\n",
      "compute vcm all vcm/chunk TYPE\n",
      "compute energia_cinetica all ke/atom\n",
      "compute energia_potenziale all pe/atom\n",
      "compute stress all stress/atom NULL virial\n",
      "compute flusso all heat/flux energia_cinetica energia_potenziale stress\n",
      "thermo_style custom step time pe etotal lx press temp c_flusso[1] c_flusso[2] c_flusso[3] c_vcm[1][1] c_vcm[1][2] c_vcm[1][3] c_vcm[2][1] c_vcm[2][2] c_vcm[2][3]\n",
      "restart 100000 equil.${T}.restart.timestep.*\n",
      "restart 100000 equil.1400.restart.timestep.*\n",
      "run 50000000\n",
      "Ewald initialization ...\n",
      "WARNING: Using 12-bit tables for long-range coulomb (../kspace.cpp:321)\n",
      "  G vector (1/distance) = 0.183708\n",
      "  estimated absolute RMS force accuracy = 1.76819e-06\n",
      "  estimated relative force accuracy = 1.22794e-07\n",
      "  KSpace vectors: actual max1d max3d = 1535 9 3429\n",
      "                  kxmax kymax kzmax  = 9 9 9\n",
      "Neighbor list info ...\n",
      "  update every 1 steps, delay 10 steps, check yes\n",
      "  max neighbors/atom: 2000, page size: 100000\n",
      "  master list distance cutoff = 22\n",
      "  ghost atom cutoff = 22\n",
      "  binsize = 11, bins = 4 4 4\n",
      "  1 neighbor lists, perpetual/occasional/extra = 1 0 0\n",
      "  (1) pair born/coul/long, perpetual\n",
      "      attributes: half, newton on\n",
      "      pair build: half/bin/atomonly/newton\n",
      "      stencil: half/bin/3d/newton\n",
      "      bin: standard\n",
      "Per MPI rank memory allocation (min/avg/max) = 19.13 | 19.16 | 19.4 Mbytes\n",
      "Step Time PotEng TotEng Lx Press Temp c_flusso[1] c_flusso[2] c_flusso[3] c_vcm[1][1] c_vcm[1][2] c_vcm[1][3] c_vcm[2][1] c_vcm[2][2] c_vcm[2][3] \n",
      " #####################################\n",
      "  all_ckeys =  {'Temp': [6], 'flusso': array([7, 8, 9]), 'vcm[1]': array([10, 11, 12]), 'vcm[2]': array([13, 14, 15]), 'Step': [0], 'Time': [1], 'Press': [5], 'TotEng': [3], 'PotEng': [2], 'Lx': [4]}\n",
      " #####################################\n",
      "Data length =  3613362\n"
     ]
    }
   ],
   "source": [
    "jfile = tc.io.LAMMPS_Current('dump1400_18ns.log', group_vectors=True)"
   ]
  },
  {
   "cell_type": "code",
   "execution_count": 7,
   "metadata": {
    "collapsed": false
   },
   "outputs": [
    {
     "name": "stdout",
     "output_type": "stream",
     "text": [
      "  ckey =  {'Temp': [6], 'flusso': array([7, 8, 9]), 'Time': [1], 'vcm[2]': array([13, 14, 15]), 'vcm[1]': array([10, 11, 12]), 'Lx': [4]}\n",
      "    step =    100000 -   2.78% completed\n",
      "    step =    200000 -   5.56% completed\n",
      "    step =    300000 -   8.33% completed\n",
      "    step =    400000 -  11.11% completed\n",
      "    step =    500000 -  13.89% completed\n",
      "    step =    600000 -  16.67% completed\n",
      "    step =    700000 -  19.44% completed\n",
      "    step =    800000 -  22.22% completed\n",
      "    step =    900000 -  25.00% completed\n",
      "    step =   1000000 -  27.78% completed\n",
      "    step =   1100000 -  30.56% completed\n",
      "    step =   1200000 -  33.33% completed\n",
      "    step =   1300000 -  36.11% completed\n",
      "    step =   1400000 -  38.89% completed\n",
      "    step =   1500000 -  41.67% completed\n",
      "    step =   1600000 -  44.44% completed\n",
      "    step =   1700000 -  47.22% completed\n",
      "    step =   1800000 -  50.00% completed\n",
      "    step =   1900000 -  52.78% completed\n",
      "    step =   2000000 -  55.56% completed\n",
      "    step =   2100000 -  58.33% completed\n",
      "    step =   2200000 -  61.11% completed\n",
      "    step =   2300000 -  63.89% completed\n",
      "    step =   2400000 -  66.67% completed\n",
      "    step =   2500000 -  69.44% completed\n",
      "    step =   2600000 -  72.22% completed\n",
      "    step =   2700000 -  75.00% completed\n",
      "    step =   2800000 -  77.78% completed\n",
      "    step =   2900000 -  80.56% completed\n",
      "    step =   3000000 -  83.33% completed\n",
      "    step =   3100000 -  86.11% completed\n",
      "    step =   3200000 -  88.89% completed\n",
      "    step =   3300000 -  91.67% completed\n",
      "    step =   3400000 -  94.44% completed\n",
      "    step =   3500000 -  97.22% completed\n",
      "    step =   3600000 - 100.00% completed\n",
      "  ( 3600000 ) steps read.\n",
      "DONE.  Elapsed time:  97.171697855 seconds\n"
     ]
    },
    {
     "data": {
      "text/plain": [
       "{'Lx': array([[ 40.211549],\n",
       "        [ 40.211549],\n",
       "        [ 40.211549],\n",
       "        ..., \n",
       "        [ 40.211549],\n",
       "        [ 40.211549],\n",
       "        [ 40.211549]]), 'Temp': array([[ 1398.6728],\n",
       "        [ 1398.1767],\n",
       "        [ 1398.5811],\n",
       "        ..., \n",
       "        [ 1405.6486],\n",
       "        [ 1395.482 ],\n",
       "        [ 1382.5869]]), 'Time': array([[  5.00000000e-03],\n",
       "        [  1.00000000e-02],\n",
       "        [  1.50000000e-02],\n",
       "        ..., \n",
       "        [  1.79999900e+04],\n",
       "        [  1.79999950e+04],\n",
       "        [  1.80000000e+04]]), 'flusso': array([[  43.61428 ,  476.73654 , -330.84389 ],\n",
       "        [  97.499211,  397.35175 , -337.05882 ],\n",
       "        [ 180.98051 ,  294.01742 , -327.5384  ],\n",
       "        ..., \n",
       "        [ 183.89699 ,  247.42873 , -110.79515 ],\n",
       "        [ 249.18835 ,  321.71807 , -126.82791 ],\n",
       "        [ 329.66691 ,  370.35781 , -153.65562 ]]), 'vcm[1]': array([[-0.29884737, -0.12877547,  0.16692061],\n",
       "        [-0.33646256, -0.08719853,  0.0921912 ],\n",
       "        [-0.37818073, -0.05012228,  0.02831954],\n",
       "        ..., \n",
       "        [ 0.04041041, -0.03583875, -0.06185685],\n",
       "        [ 0.03098402, -0.02502819, -0.04242995],\n",
       "        [ 0.0093625 , -0.01005433, -0.03241207]]), 'vcm[2]': array([[ 0.19379181,  0.08350628, -0.10824204],\n",
       "        [ 0.21818391,  0.05654512, -0.05978269],\n",
       "        [ 0.24523665,  0.0325025 , -0.01836421],\n",
       "        ..., \n",
       "        [-0.0262047 ,  0.02324014,  0.04011195],\n",
       "        [-0.02009203,  0.01622988,  0.0275143 ],\n",
       "        [-0.00607124,  0.00651987,  0.02101807]])}"
      ]
     },
     "execution_count": 7,
     "metadata": {},
     "output_type": "execute_result"
    }
   ],
   "source": [
    "jfile.read_currents(NSTEPS=3600000, start_step=0, select_ckeys = ['flusso', 'vcm[1]','vcm[2]','Temp','Lx','Time'])"
   ]
  },
  {
   "cell_type": "code",
   "execution_count": 8,
   "metadata": {
    "collapsed": false
   },
   "outputs": [
    {
     "name": "stdout",
     "output_type": "stream",
     "text": [
      "kappa_scale = [  7.31020658e-07], T=[ 1398.49999348]K, DT_FS=[ 5.]fs, V=[ 65020.81502498]Å³\n"
     ]
    }
   ],
   "source": [
    "DT_FS=(jfile.data['Time'][1]-jfile.data['Time'][0])*1000\n",
    "TEMPERATURE=0.0\n",
    "cont=0\n",
    "for T in jfile.data['Temp']:\n",
    "    cont=cont+1\n",
    "    delta=T-TEMPERATURE\n",
    "    TEMPERATURE=TEMPERATURE+delta/cont\n",
    "VOLUME=jfile.data['Lx'][0]**3\n",
    "kappa_scale = tc.md.scale_kappa_METALtoSI(TEMPERATURE, VOLUME, DT_FS)\n",
    "print 'kappa_scale = {}, T={}K, DT_FS={}fs, V={}Å³'.format(kappa_scale,TEMPERATURE,DT_FS,VOLUME)\n",
    "#sanity check\n",
    "oldt=jfile.data['Time'][0]-(jfile.data['Time'][1]-jfile.data['Time'][0])\n",
    "for t in jfile.data['Time']:\n",
    "    if abs(t-oldt - (jfile.data['Time'][1]-jfile.data['Time'][0]) )> 0.0001:\n",
    "        print 'Sanity check failed between times: ',oldt,t\n",
    "    oldt=t"
   ]
  },
  {
   "cell_type": "code",
   "execution_count": 9,
   "metadata": {
    "collapsed": true
   },
   "outputs": [],
   "source": [
    "JZ = jfile.data['vcm[1]']-jfile.data['vcm[2]']"
   ]
  },
  {
   "cell_type": "code",
   "execution_count": 10,
   "metadata": {
    "collapsed": false
   },
   "outputs": [
    {
     "data": {
      "text/plain": [
       "<module 'thermocepstrum.blockanalysis' from '/u/cm/rbertoss/thermocepstrum/blockanalysis.pyc'>"
      ]
     },
     "execution_count": 10,
     "metadata": {},
     "output_type": "execute_result"
    }
   ],
   "source": [
    "imp.reload(ba)"
   ]
  },
  {
   "cell_type": "code",
   "execution_count": 11,
   "metadata": {
    "collapsed": false
   },
   "outputs": [
    {
     "name": "stdout",
     "output_type": "stream",
     "text": [
      " TOT_TIME     = (600000, 3)\n",
      " NYQUIST_F    = 0.0833333333333 = [ 16.66666667] THz\n",
      " BLOCK_SIZE   =       1666\n",
      " N_BLOCKS     =        360\n",
      " TOT_TIME     = (600000, 3)\n",
      " NYQUIST_F    = 0.0833333333333 = [ 16.66666667] THz\n",
      " BLOCK_SIZE   =       1666\n",
      " N_BLOCKS     =        360\n"
     ]
    }
   ],
   "source": [
    "TSKIP          = 6       # time step [DT_FS]\n",
    "FILTER_WIDTH_T = TSKIP    # filter window width [DT = 1.0fs]\n",
    "BLOCK_SIZE_T   = int(50000/DT_FS) # block width [DT_FS] = 100 ps\n",
    "\n",
    "b = ba.MDBlocks(jfile.data['flusso'], DT_FS, TSKIP, FILTER_WIDTH_T, T, VOLUME, 'metal', GUI=True)\n",
    "b.segment_trajectory(BLOCK_SIZE_T)\n",
    "bz = ba.MDBlocks(JZ, DT_FS, TSKIP, FILTER_WIDTH_T, T, VOLUME, 'metal', GUI=True)\n",
    "bz.segment_trajectory(BLOCK_SIZE_T)"
   ]
  },
  {
   "cell_type": "code",
   "execution_count": 12,
   "metadata": {
    "collapsed": false
   },
   "outputs": [
    {
     "name": "stdout",
     "output_type": "stream",
     "text": [
      " N_COMPONENTS =          3\n"
     ]
    },
    {
     "name": "stderr",
     "output_type": "stream",
     "text": [
      "Widget Javascript not detected.  It may not be installed properly. Did you enable the widgetsnbextension? If not, then run \"jupyter nbextension enable --py --sys-prefix widgetsnbextension\"\n"
     ]
    },
    {
     "name": "stdout",
     "output_type": "stream",
     "text": [
      "\n",
      "   min(psd)           =       15.1429\n",
      "   max[AIC_Kmin]      =            18\n",
      "   AIC_Kmin           =         4.639 +/- 2.445538\n",
      "\n",
      "   flogtau[@AIC_Kmin] =     13.106436 +/- 0.106789  (SW p-value = 0.000017)\n",
      "   ftau[@AIC_Kmin]    =  881484.866904 +/- 94133.280567\n",
      "   FTAU[@AIC_Kmin]    =  [ 0.32965114] +/- [ 0.03520326]\n",
      "\n",
      "   THEORY_STD_flogtau[@ave_AIC_Kmin] =    0.0922850816596  (errcheck: 0.0873750958899 +/- 0.0179711544035)\n",
      "   THEORY_STD_ftau[@ave_AIC_Kmin]    =    81347.902924\n",
      "   THEORY_STD_FTAU[@ave_AIC_Kmin]    =    [ 0.03042188]\n",
      "\n"
     ]
    }
   ],
   "source": [
    "b.cepstral_analysis_kappa(other=bz,Kmin_corrfactor=1.) #, bayes_p=True, density_grid=DENSITY_GRID)\n",
    "b.compute_averages()\n"
   ]
  },
  {
   "cell_type": "code",
   "execution_count": 13,
   "metadata": {
    "collapsed": true
   },
   "outputs": [],
   "source": [
    "#kappa_Kmin = jf.dct.tau_Kmin * kappa_scale\n",
    "#kappa_std_Kmin = jf.dct.tau_std_Kmin * kappa_scale\n",
    "#print 'kappa* = {} +/- {}  W/mK'.format(kappa_Kmin, kappa_std_Kmin)\n",
    "\n",
    "\n"
   ]
  },
  {
   "cell_type": "code",
   "execution_count": 105,
   "metadata": {
    "collapsed": false
   },
   "outputs": [],
   "source": [
    "def PSD(i):\n",
    "    psd=np.array(list(b.spsd()))[i]\n",
    "    return psd, psd.mean()\n",
    "def logPSD(i):\n",
    "    psd=np.array(list(b.slogpsd()))[i]\n",
    "    return psd, psd.mean()\n",
    "def all_PSD(maxi):\n",
    "    tmp,media = PSD(1)\n",
    "    res=tmp\n",
    "    for i in range(2,maxi):\n",
    "        mp,media = PSD(i)\n",
    "        res=np.concatenate((res,mp/media))\n",
    "    return res.flatten()\n",
    "def all_logPSD(maxi):\n",
    "    tmp,media = logPSD(1)\n",
    "    res=tmp\n",
    "    for i in range(2,maxi):\n",
    "        mp,media = logPSD(i)\n",
    "        res=np.concatenate((res,mp-media))\n",
    "    return res.flatten()"
   ]
  },
  {
   "cell_type": "code",
   "execution_count": 120,
   "metadata": {
    "collapsed": false
   },
   "outputs": [
    {
     "data": {
      "text/plain": [
       "[<matplotlib.lines.Line2D at 0x7f47a7eeecd0>]"
      ]
     },
     "execution_count": 120,
     "metadata": {},
     "output_type": "execute_result"
    },
    {
     "data": {
      "image/png": "[encoded data removed]",
      "text/plain": [
       "<matplotlib.figure.Figure at 0x7f47a6ac1790>"
      ]
     },
     "metadata": {},
     "output_type": "display_data"
    }
   ],
   "source": [
    "x=np.linspace(0,20,200)\n",
    "psd_,mean_=PSD(1)\n",
    "plt.hist(psd_*4/mean_, bins=20,normed='probability')\n",
    "plt.plot(x,np.exp(-x/2)*x/4)"
   ]
  },
  {
   "cell_type": "code",
   "execution_count": 107,
   "metadata": {
    "collapsed": false,
    "scrolled": false
   },
   "outputs": [
    {
     "data": {
      "text/plain": [
       "[<matplotlib.lines.Line2D at 0x7f47a89dd810>]"
      ]
     },
     "execution_count": 107,
     "metadata": {},
     "output_type": "execute_result"
    },
    {
     "data": {
      "image/png": "[encoded data removed]",
      "text/plain": [
       "<matplotlib.figure.Figure at 0x7f47ad16d5d0>"
      ]
     },
     "metadata": {},
     "output_type": "display_data"
    }
   ],
   "source": [
    "x=np.linspace(0,20,200)\n",
    "plt.hist(all_PSD(800)*4, bins=x, ec='k', lw=0.3, align='mid',alpha=1,normed='probability')\n",
    "plt.plot(x,np.exp(-x/2)*x/4)"
   ]
  },
  {
   "cell_type": "code",
   "execution_count": 108,
   "metadata": {
    "collapsed": false
   },
   "outputs": [],
   "source": [
    "import scipy as sp"
   ]
  },
  {
   "cell_type": "code",
   "execution_count": 128,
   "metadata": {
    "collapsed": false
   },
   "outputs": [
    {
     "data": {
      "text/plain": [
       "[<matplotlib.lines.Line2D at 0x7f47a4e01810>]"
      ]
     },
     "execution_count": 128,
     "metadata": {},
     "output_type": "execute_result"
    },
    {
     "data": {
      "image/png": "[encoded data removed]",
      "text/plain": [
       "<matplotlib.figure.Figure at 0x7f47a5326810>"
      ]
     },
     "metadata": {},
     "output_type": "display_data"
    }
   ],
   "source": [
    "logpsd,media=logPSD(600)\n",
    "plt.hist(logpsd-media,normed='probability', bins=15)\n",
    "x=np.linspace(-5,16,200)\n",
    "y=4*np.exp(-2*np.exp(x)+2*x)\n",
    "y=y/(np.sum(y)*((x[-1]-x[0])/x.size))\n",
    "plt.plot(x+np.log(2)- sp.special.digamma(2) , y)"
   ]
  },
  {
   "cell_type": "code",
   "execution_count": 127,
   "metadata": {
    "collapsed": false
   },
   "outputs": [
    {
     "data": {
      "text/plain": [
       "[<matplotlib.lines.Line2D at 0x7f47a5366c10>]"
      ]
     },
     "execution_count": 127,
     "metadata": {},
     "output_type": "execute_result"
    },
    {
     "data": {
      "image/png": "[encoded data removed]",
      "text/plain": [
       "<matplotlib.figure.Figure at 0x7f47a5871c10>"
      ]
     },
     "metadata": {},
     "output_type": "display_data"
    }
   ],
   "source": [
    "logpsd=all_logPSD(800)\n",
    "plt.hist(logpsd,normed='probability', bins=200)\n",
    "x=np.linspace(-5,16,400)\n",
    "y=4*np.exp(-2*np.exp(x)+2*x)\n",
    "y=y/(np.sum(y)*((x[-1]-x[0])/x.size))\n",
    "plt.plot(x+np.log(2)- sp.special.digamma(2) , y)"
   ]
  },
  {
   "cell_type": "code",
   "execution_count": null,
   "metadata": {
    "collapsed": true
   },
   "outputs": [],
   "source": []
  },
  {
   "cell_type": "code",
   "execution_count": null,
   "metadata": {
    "collapsed": true
   },
   "outputs": [],
   "source": []
  }
 ],
 "metadata": {
  "kernelspec": {
   "display_name": "Python 2",
   "language": "python",
   "name": "python2"
  },
  "language_info": {
   "codemirror_mode": {
    "name": "ipython",
    "version": 2
   },
   "file_extension": ".py",
   "mimetype": "text/x-python",
   "name": "python",
   "nbconvert_exporter": "python",
   "pygments_lexer": "ipython2",
   "version": "2.7.13"
  }
 },
 "nbformat": 4,
 "nbformat_minor": 2
}

{
 "cells": [
  {
   "cell_type": "code",
   "execution_count": 3,
   "metadata": {
    "collapsed": false
   },
   "outputs": [],
   "source": [
    "\n",
    "from sys import path\n",
    "path.append('/u/cm/rbertoss')\n",
    "\n"
   ]
  },
  {
   "cell_type": "code",
   "execution_count": 10,
   "metadata": {
    "collapsed": true
   },
   "outputs": [],
   "source": [
    "import thermocepstrum as tc"
   ]
  },
  {
   "cell_type": "code",
   "execution_count": 26,
   "metadata": {
    "collapsed": false
   },
   "outputs": [],
   "source": [
    "import thermocepstrum.blockanalysis as ba"
   ]
  },
  {
   "cell_type": "code",
   "execution_count": 21,
   "metadata": {
    "collapsed": true
   },
   "outputs": [],
   "source": [
    "import imp"
   ]
  },
  {
   "cell_type": "code",
   "execution_count": 60,
   "metadata": {
    "collapsed": false
   },
   "outputs": [],
   "source": [
    "import numpy as np\n",
    "import matplotlib.pyplot as plt\n",
    "%matplotlib inline\n",
    "plt.rcParams['figure.figsize'] = (16, 9)"
   ]
  },
  {
   "cell_type": "code",
   "execution_count": 12,
   "metadata": {
    "collapsed": false
   },
   "outputs": [
    {
     "name": "stdout",
     "output_type": "stream",
     "text": [
      "#scopo di questo file: continuare una simulazione precedente con T=1400K\n",
      "#\n",
      "echo both\n",
      "read_restart equil.${T_resume}.restart\n",
      "read_restart equil.1400.restart\n",
      "  orthogonal box = (-3.17721 -3.17721 -3.17721) to (37.0343 37.0343 37.0343)\n",
      "  2 by 2 by 3 MPI processor grid\n",
      "  1728 atoms\n",
      "kspace_style ewald 0.01e-5\n",
      "pair_style born/coul/long 20.0\n",
      "variable b equal 0.211\n",
      "variable A11 equal 1.25*$b\n",
      "variable A11 equal 1.25*0.211\n",
      "variable A12 equal 1.0*$b\n",
      "variable A12 equal 1.0*0.211\n",
      "variable A22 equal 0.75*$b\n",
      "variable A22 equal 0.75*0.211\n",
      "variable rho equal 0.317\n",
      "variable sigma1 equal 1.17\n",
      "variable sigma2 equal 1.585\n",
      "variable C11 equal 1.04857\n",
      "variable C12 equal 6.99049\n",
      "variable C22 equal 72.4015\n",
      "variable D11 equal -0.499321\n",
      "variable D12 equal -8.6757\n",
      "variable D22 equal -145.427\n",
      "variable sigma11 equal ${sigma1}*2\n",
      "variable sigma11 equal 1.17*2\n",
      "variable sigma12 equal ${sigma1}+${sigma2}\n",
      "variable sigma12 equal 1.17+${sigma2}\n",
      "variable sigma12 equal 1.17+1.585\n",
      "variable sigma22 equal ${sigma2}*2\n",
      "variable sigma22 equal 1.585*2\n",
      "pair_coeff 1 1 ${A11} ${rho} ${sigma11} ${C11} ${D11}\n",
      "pair_coeff 1 1 0.26375 ${rho} ${sigma11} ${C11} ${D11}\n",
      "pair_coeff 1 1 0.26375 0.317 ${sigma11} ${C11} ${D11}\n",
      "pair_coeff 1 1 0.26375 0.317 2.34 ${C11} ${D11}\n",
      "pair_coeff 1 1 0.26375 0.317 2.34 1.04857 ${D11}\n",
      "pair_coeff 1 1 0.26375 0.317 2.34 1.04857 -0.499321\n",
      "pair_coeff 1 2 ${A12} ${rho} ${sigma12} ${C12} ${D12}\n",
      "pair_coeff 1 2 0.211 ${rho} ${sigma12} ${C12} ${D12}\n",
      "pair_coeff 1 2 0.211 0.317 ${sigma12} ${C12} ${D12}\n",
      "pair_coeff 1 2 0.211 0.317 2.755 ${C12} ${D12}\n",
      "pair_coeff 1 2 0.211 0.317 2.755 6.99049 ${D12}\n",
      "pair_coeff 1 2 0.211 0.317 2.755 6.99049 -8.6757\n",
      "pair_coeff 2 2 ${A22} ${rho} ${sigma22} ${C22} ${D22}\n",
      "pair_coeff 2 2 0.15825 ${rho} ${sigma22} ${C22} ${D22}\n",
      "pair_coeff 2 2 0.15825 0.317 ${sigma22} ${C22} ${D22}\n",
      "pair_coeff 2 2 0.15825 0.317 3.17 ${C22} ${D22}\n",
      "pair_coeff 2 2 0.15825 0.317 3.17 72.4015 ${D22}\n",
      "pair_coeff 2 2 0.15825 0.317 3.17 72.4015 -145.427\n",
      "timestep 1e-3\n",
      "reset_timestep 0\n",
      "thermo 5 #output ogni 5 passi\n",
      "kspace_modify diff ad\n",
      "fix 1 all nve\n",
      "compute TYPE all chunk/atom type\n",
      "compute vcm all vcm/chunk TYPE\n",
      "compute energia_cinetica all ke/atom\n",
      "compute energia_potenziale all pe/atom\n",
      "compute stress all stress/atom NULL virial\n",
      "compute flusso all heat/flux energia_cinetica energia_potenziale stress\n",
      "thermo_style custom step time pe etotal lx press temp c_flusso[1] c_flusso[2] c_flusso[3] c_vcm[1][1] c_vcm[1][2] c_vcm[1][3] c_vcm[2][1] c_vcm[2][2] c_vcm[2][3]\n",
      "restart 100000 equil.${T}.restart.timestep.*\n",
      "restart 100000 equil.1400.restart.timestep.*\n",
      "run 50000000\n",
      "Ewald initialization ...\n",
      "WARNING: Using 12-bit tables for long-range coulomb (../kspace.cpp:321)\n",
      "  G vector (1/distance) = 0.183708\n",
      "  estimated absolute RMS force accuracy = 1.76819e-06\n",
      "  estimated relative force accuracy = 1.22794e-07\n",
      "  KSpace vectors: actual max1d max3d = 1535 9 3429\n",
      "                  kxmax kymax kzmax  = 9 9 9\n",
      "Neighbor list info ...\n",
      "  update every 1 steps, delay 10 steps, check yes\n",
      "  max neighbors/atom: 2000, page size: 100000\n",
      "  master list distance cutoff = 22\n",
      "  ghost atom cutoff = 22\n",
      "  binsize = 11, bins = 4 4 4\n",
      "  1 neighbor lists, perpetual/occasional/extra = 1 0 0\n",
      "  (1) pair born/coul/long, perpetual\n",
      "      attributes: half, newton on\n",
      "      pair build: half/bin/atomonly/newton\n",
      "      stencil: half/bin/3d/newton\n",
      "      bin: standard\n",
      "Per MPI rank memory allocation (min/avg/max) = 19.13 | 19.16 | 19.4 Mbytes\n",
      "Step Time PotEng TotEng Lx Press Temp c_flusso[1] c_flusso[2] c_flusso[3] c_vcm[1][1] c_vcm[1][2] c_vcm[1][3] c_vcm[2][1] c_vcm[2][2] c_vcm[2][3] \n",
      " #####################################\n",
      "  all_ckeys =  {'Temp': [6], 'flusso': array([7, 8, 9]), 'vcm[1]': array([10, 11, 12]), 'vcm[2]': array([13, 14, 15]), 'Step': [0], 'Time': [1], 'Press': [5], 'TotEng': [3], 'PotEng': [2], 'Lx': [4]}\n",
      " #####################################\n",
      "Data length =  1816982\n"
     ]
    }
   ],
   "source": [
    "jfile = tc.io.LAMMPS_Current('dump1400_9ns.log', group_vectors=True)"
   ]
  },
  {
   "cell_type": "code",
   "execution_count": 15,
   "metadata": {
    "collapsed": false
   },
   "outputs": [
    {
     "name": "stdout",
     "output_type": "stream",
     "text": [
      "  ckey =  {'Temp': [6], 'flusso': array([7, 8, 9]), 'Time': [1], 'vcm[2]': array([13, 14, 15]), 'vcm[1]': array([10, 11, 12]), 'Lx': [4]}\n",
      "    step =    100000 -   5.50% completed\n",
      "    step =    200000 -  11.01% completed\n",
      "    step =    300000 -  16.51% completed\n",
      "    step =    400000 -  22.01% completed\n",
      "    step =    500000 -  27.52% completed\n",
      "    step =    600000 -  33.02% completed\n",
      "    step =    700000 -  38.53% completed\n",
      "    step =    800000 -  44.03% completed\n",
      "    step =    900000 -  49.53% completed\n",
      "    step =   1000000 -  55.04% completed\n",
      "    step =   1100000 -  60.54% completed\n",
      "    step =   1200000 -  66.04% completed\n",
      "    step =   1300000 -  71.55% completed\n",
      "    step =   1400000 -  77.05% completed\n",
      "    step =   1500000 -  82.55% completed\n",
      "    step =   1600000 -  88.06% completed\n",
      "    step =   1700000 -  93.56% completed\n",
      "    step =   1800000 -  99.07% completed\n",
      "  ( 1816980 ) steps read.\n",
      "DONE.  Elapsed time:  50.0748620033 seconds\n"
     ]
    },
    {
     "data": {
      "text/plain": [
       "{'Lx': array([[ 40.211549],\n",
       "        [ 40.211549],\n",
       "        [ 40.211549],\n",
       "        ..., \n",
       "        [ 40.211549],\n",
       "        [ 40.211549],\n",
       "        [ 40.211549]]), 'Temp': array([[ 1398.6728],\n",
       "        [ 1398.1767],\n",
       "        [ 1398.5811],\n",
       "        ..., \n",
       "        [ 1414.6008],\n",
       "        [ 1415.381 ],\n",
       "        [ 1415.4031]]), 'Time': array([[  5.00000000e-03],\n",
       "        [  1.00000000e-02],\n",
       "        [  1.50000000e-02],\n",
       "        ..., \n",
       "        [  9.08489000e+03],\n",
       "        [  9.08489500e+03],\n",
       "        [  9.08490000e+03]]), 'flusso': array([[  43.61428 ,  476.73654 , -330.84389 ],\n",
       "        [  97.499211,  397.35175 , -337.05882 ],\n",
       "        [ 180.98051 ,  294.01742 , -327.5384  ],\n",
       "        ..., \n",
       "        [-242.22083 ,  -70.402898,  269.94094 ],\n",
       "        [-189.68856 ,   15.739775,  205.44046 ],\n",
       "        [ -97.027633,  119.97638 ,  122.26275 ]]), 'vcm[1]': array([[-0.29884737, -0.12877547,  0.16692061],\n",
       "        [-0.33646256, -0.08719853,  0.0921912 ],\n",
       "        [-0.37818073, -0.05012228,  0.02831954],\n",
       "        ..., \n",
       "        [-0.03514919, -0.19216984, -0.01302653],\n",
       "        [-0.07359251, -0.2667301 ,  0.0060494 ],\n",
       "        [-0.12000422, -0.34046678,  0.020763  ]]), 'vcm[2]': array([[ 0.19379181,  0.08350628, -0.10824204],\n",
       "        [ 0.21818391,  0.05654512, -0.05978269],\n",
       "        [ 0.24523665,  0.0325025 , -0.01836421],\n",
       "        ..., \n",
       "        [ 0.02279299,  0.12461526,  0.00844724],\n",
       "        [ 0.0477221 ,  0.17296491, -0.00392282],\n",
       "        [ 0.07781844,  0.2207805 , -0.01346406]])}"
      ]
     },
     "execution_count": 15,
     "metadata": {},
     "output_type": "execute_result"
    }
   ],
   "source": [
    "jfile.read_currents(NSTEPS=1816980, start_step=0, select_ckeys = ['flusso', 'vcm[1]','vcm[2]','Temp','Lx','Time'])"
   ]
  },
  {
   "cell_type": "code",
   "execution_count": 16,
   "metadata": {
    "collapsed": false
   },
   "outputs": [
    {
     "name": "stdout",
     "output_type": "stream",
     "text": [
      "kappa_scale = [  7.31028608e-07], T=[ 1398.49238911]K, DT_FS=[ 5.]fs, V=[ 65020.81502498]Å³\n"
     ]
    }
   ],
   "source": [
    "DT_FS=(jfile.data['Time'][1]-jfile.data['Time'][0])*1000\n",
    "TEMPERATURE=0.0\n",
    "cont=0\n",
    "for T in jfile.data['Temp']:\n",
    "    cont=cont+1\n",
    "    delta=T-TEMPERATURE\n",
    "    TEMPERATURE=TEMPERATURE+delta/cont\n",
    "VOLUME=jfile.data['Lx'][0]**3\n",
    "kappa_scale = tc.md.scale_kappa_METALtoSI(TEMPERATURE, VOLUME, DT_FS)\n",
    "print 'kappa_scale = {}, T={}K, DT_FS={}fs, V={}Å³'.format(kappa_scale,TEMPERATURE,DT_FS,VOLUME)\n",
    "#sanity check\n",
    "oldt=jfile.data['Time'][0]-(jfile.data['Time'][1]-jfile.data['Time'][0])\n",
    "for t in jfile.data['Time']:\n",
    "    if abs(t-oldt - (jfile.data['Time'][1]-jfile.data['Time'][0]) )> 0.0001:\n",
    "        print 'Sanity check failed between times: ',oldt,t\n",
    "    oldt=t"
   ]
  },
  {
   "cell_type": "code",
   "execution_count": 17,
   "metadata": {
    "collapsed": true
   },
   "outputs": [],
   "source": [
    "JZ = jfile.data['vcm[1]']-jfile.data['vcm[2]']"
   ]
  },
  {
   "cell_type": "code",
   "execution_count": 46,
   "metadata": {
    "collapsed": false
   },
   "outputs": [
    {
     "data": {
      "text/plain": [
       "<module 'thermocepstrum.blockanalysis' from '/u/cm/rbertoss/thermocepstrum/blockanalysis.py'>"
      ]
     },
     "execution_count": 46,
     "metadata": {},
     "output_type": "execute_result"
    }
   ],
   "source": [
    "imp.reload(ba)"
   ]
  },
  {
   "cell_type": "code",
   "execution_count": 47,
   "metadata": {
    "collapsed": false
   },
   "outputs": [
    {
     "name": "stdout",
     "output_type": "stream",
     "text": [
      " TOT_TIME     = (302830, 3)\n",
      " NYQUIST_F    = 0.0833333333333 = [ 16.66666667] THz\n",
      " BLOCK_SIZE   =       3332\n",
      " N_BLOCKS     =         90\n",
      " TOT_TIME     = (302830, 3)\n",
      " NYQUIST_F    = 0.0833333333333 = [ 16.66666667] THz\n",
      " BLOCK_SIZE   =       3332\n",
      " N_BLOCKS     =         90\n"
     ]
    }
   ],
   "source": [
    "TSKIP          = 6       # time step [DT_FS]\n",
    "FILTER_WIDTH_T = TSKIP    # filter window width [DT = 1.0fs]\n",
    "BLOCK_SIZE_T   = int(100000/DT_FS) # block width [DT_FS] = 100 ps\n",
    "\n",
    "b = ba.MDBlocks(jfile.data['flusso'], DT_FS, TSKIP, FILTER_WIDTH_T, T, VOLUME, 'metal', GUI=True)\n",
    "b.segment_trajectory(BLOCK_SIZE_T)\n",
    "bz = ba.MDBlocks(JZ, DT_FS, TSKIP, FILTER_WIDTH_T, T, VOLUME, 'metal', GUI=True)\n",
    "bz.segment_trajectory(BLOCK_SIZE_T)"
   ]
  },
  {
   "cell_type": "code",
   "execution_count": 48,
   "metadata": {
    "collapsed": false
   },
   "outputs": [
    {
     "name": "stderr",
     "output_type": "stream",
     "text": [
      "Widget Javascript not detected.  It may not be installed properly. Did you enable the widgetsnbextension? If not, then run \"jupyter nbextension enable --py --sys-prefix widgetsnbextension\"\n"
     ]
    },
    {
     "name": "stdout",
     "output_type": "stream",
     "text": [
      " N_COMPONENTS =          3\n",
      "\n",
      "   min(psd)           =        24.276\n",
      "   max[AIC_Kmin]      =            19\n",
      "   AIC_Kmin           =         4.978 +/- 2.828339\n",
      "\n",
      "   flogtau[@AIC_Kmin] =     13.108831 +/- 0.077291  (SW p-value = 0.651025)\n",
      "   ftau[@AIC_Kmin]    =  881171.973377 +/- 68106.612502\n",
      "   FTAU[@AIC_Kmin]    =  [ 0.31443073] +/- [ 0.02430265]\n",
      "\n",
      "   THEORY_STD_flogtau[@ave_AIC_Kmin] =    0.0652554070438  (errcheck: 0.063649530661 +/- 0.0137768019241)\n",
      "   THEORY_STD_ftau[@ave_AIC_Kmin]    =    57501.2357983\n",
      "   THEORY_STD_FTAU[@ave_AIC_Kmin]    =    [ 0.02051831]\n",
      "\n"
     ]
    }
   ],
   "source": [
    "b.cepstral_analysis_kappa(other=bz,Kmin_corrfactor=1.) #, bayes_p=True, density_grid=DENSITY_GRID)\n",
    "b.compute_averages()\n"
   ]
  },
  {
   "cell_type": "code",
   "execution_count": 64,
   "metadata": {
    "collapsed": false
   },
   "outputs": [
    {
     "name": "stdout",
     "output_type": "stream",
     "text": [
      "-0.17582795357\n"
     ]
    },
    {
     "data": {
      "image/png": "[encoded data removed]",
      "text/plain": [
       "<matplotlib.figure.Figure at 0x7f53ed5cda90>"
      ]
     },
     "metadata": {},
     "output_type": "display_data"
    }
   ],
   "source": [
    "XBINW=1\n",
    "f = 50\n",
    "plt.hist(np.array(list(b.slogpsd()))[f*XBINW:(f+1)*XBINW,:].flatten(), normed='probability', bins=10, ec='k', lw=0.3, align='mid');\n",
    "mediaaaaaaa = np.array(list(b.slogpsd()))[f*XBINW:(f+1)*XBINW,:].flatten().mean()\n",
    "\n",
    "LOGmedia = 1.5 - tc.md.EULER_GAMMA - np.log(3)\n",
    "print LOGmedia\n",
    "x = np.arange(-3,3,0.1)\n",
    "g = 27./2 * np.exp(-3.*np.exp(x) + 3.*x)\n",
    "plt.plot(x + mediaaaaaaa - LOGmedia, g)\n",
    "plt.axvline(mediaaaaaaa, color='r');"
   ]
  },
  {
   "cell_type": "code",
   "execution_count": null,
   "metadata": {
    "collapsed": true
   },
   "outputs": [],
   "source": []
  }
 ],
 "metadata": {
  "kernelspec": {
   "display_name": "Python 2",
   "language": "python",
   "name": "python2"
  },
  "language_info": {
   "codemirror_mode": {
    "name": "ipython",
    "version": 2
   },
   "file_extension": ".py",
   "mimetype": "text/x-python",
   "name": "python",
   "nbconvert_exporter": "python",
   "pygments_lexer": "ipython2",
   "version": "2.7.13"
  }
 },
 "nbformat": 4,
 "nbformat_minor": 2
}
